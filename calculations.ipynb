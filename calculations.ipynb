{
 "cells": [
  {
   "cell_type": "markdown",
   "metadata": {},
   "source": [
    "## Calculating threshold for different versions of the data"
   ]
  },
  {
   "cell_type": "markdown",
   "metadata": {},
   "source": [
    "    1_0\n",
    "    Docs: 12.68B\n",
    "    Words: 10.27T\n",
    "\n",
    "    1_1\n",
    "    Docs: 1.78B\n",
    "    Words: 2.86T\n",
    "\n",
    "    1_2\n",
    "    Docs: 1.02B\n",
    "    Words: 2.31T\n",
    "\n",
    "    2_0 dedup\n",
    "    Docs: 7.72B\n",
    "    Words: 3.75T\n",
    "    Chars: 22.79T\n",
    "    Segments: 220.10B\n",
    "\n",
    "    2_0\n",
    "    Docs: 4.39B\n",
    "    Words: 2.86T\n",
    "    Chars: 17.09T\n",
    "    Segments: 116.52B"
   ]
  },
  {
   "cell_type": "markdown",
   "metadata": {},
   "source": [
    "Assume:\n",
    "- 4 tokens every 3 words\n",
    "- needed tokens = 300 billion tokens\n",
    "\n",
    "=> 225 billion words needed."
   ]
  },
  {
   "cell_type": "markdown",
   "metadata": {},
   "source": [
    "    1_0\n",
    "    Docs: 12.68B\n",
    "    Words: 10.27T\n",
    "    words per doc: 10.27T / 12.68 B = 810\n",
    "    Ratio of needed words: 225B/10.27T = 0.0219\n",
    "    num_docs needed: 12.68B * 0.0219 = 277,692,000\n",
    "    This equals: 277692000 *810 = 224930520000 ~ 225 B words ~ 300 B tokens\n",
    "    => threshold = 0.022\n",
    "\n",
    "    1_1\n",
    "    Docs: 1.78B\n",
    "    Words: 2.86T\n",
    "    words per doc: 2.8 T / 1.7 B = 1647\n",
    "    Ratio of needed words: 225B/2.86T = 0.07867\n",
    "    num_docs needed: 1.78B*0.07867 = 140032600\n",
    "    This equals: 140032600*1647 = 230,633,692,200 ~ 225 B words ~ 300 B tokens\n",
    "    => threshold = 0.078\n",
    "\n",
    "    1_2\n",
    "    Docs: 1.02B\n",
    "    Words: 2.31T\n",
    "    ratio: 225B / 2.31T = 0.097\n",
    "\n",
    "    2_0 dedup\n",
    "    Docs: 7.72B\n",
    "    Words: 3.75T\n",
    "    Chars: 22.79T\n",
    "    Segments: 220.10B\n",
    "    ratio = 225B / 3.75T = 0.06\n",
    "\n",
    "    2_0\n",
    "    Docs: 4.39B\n",
    "    Words: 2.86T\n",
    "    Chars: 17.09T\n",
    "    Segments: 116.52B\n",
    "    ratio: 225 B / 2.86 T = 0.0786"
   ]
  },
  {
   "cell_type": "markdown",
   "metadata": {},
   "source": []
  }
 ],
 "metadata": {
  "language_info": {
   "name": "python"
  },
  "orig_nbformat": 4
 },
 "nbformat": 4,
 "nbformat_minor": 2
}
