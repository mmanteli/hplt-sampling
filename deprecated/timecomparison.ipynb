{
 "cells": [
  {
   "cell_type": "code",
   "execution_count": 1,
   "metadata": {},
   "outputs": [
    {
     "name": "stdout",
     "output_type": "stream",
     "text": [
      "7.874937728047371e-05\n",
      "1.938687637448311e-05\n",
      "3.6259181797504425e-05\n"
     ]
    }
   ],
   "source": [
    "from timeit import Timer\n",
    "\n",
    "\n",
    "a = {\"text\": \"Susikoira Roi – seikkailu saaristossa on suomalainen Yleisradion tuottama vuonna 1988 valmistunut neliosainen televisiosarja.[2] Sarja perustuu kirjailija Jorma Kurvisen samannimisen kirjasarjan osaan. Sarja oli jatkoa edellisenä vuonna valmistuneelle Susikoira Roi -televisiosarjalle.[3]Sarja kuvattiin Kotkassa, Hangon saaristossa ja Kirkkonummella kesällä 1987.[4] Sarja ensiesitettiin televisiossa Yle TV1 -kanavalla syys-lokakuussa 1988. Uusintana sarja on esitetty televisiossa vuosina 1993 ja 1998.[5][6] Sarja on julkaistu myös vuonna 1989 Yle Tallennemyynnin kirjastotallenteena (VHS) sekä DVD-tallenteena ensimmäisen kerran vuonna 2009 ensimmäisen Susikoira Roi -sarjan kanssa.[7][8]Pääosaa näytteli edellisessäkin televisiosarjassa näytellyt Paavo Westerberg, ja Susikoira Roita esitti poliisikoira Jami (10. marraskuuta 1976 – syksy 1990), jonka ohjaaja oli nykyisin eläkkeellä oleva ylikonstaapeli, ja entinen Poliisikoiralaitoksen kouluttaja Lauri Kanerva.[9] Sarja jäi nimiosassa näytelleen poliisikoira Jamin viimeiseksi rooliksi televisiossa.\", \"id\": 19384291924}\n",
    "keys = [\"id\", \"text\"]\n",
    "\n",
    "def zipper():\n",
    "    return {k:v for k,v in zip(keys,map(a.get, keys))}\n",
    "\n",
    "def regular():\n",
    "    return {\"id\":a[\"id\"], \"text\":a[\"text\"]}\n",
    "\n",
    "def getter():\n",
    "    return {\"id\":a.get(\"id\"), \"text\":a.get(\"text\")}\n",
    "\n",
    "print(min(Timer(zipper).repeat(100, 100)))\n",
    "print(min(Timer(regular).repeat(100, 100)))\n",
    "print(min(Timer(getter).repeat(100, 100)))\n"
   ]
  },
  {
   "cell_type": "code",
   "execution_count": null,
   "metadata": {},
   "outputs": [],
   "source": []
  }
 ],
 "metadata": {
  "kernelspec": {
   "display_name": "Python 3",
   "language": "python",
   "name": "python3"
  },
  "language_info": {
   "codemirror_mode": {
    "name": "ipython",
    "version": 3
   },
   "file_extension": ".py",
   "mimetype": "text/x-python",
   "name": "python",
   "nbconvert_exporter": "python",
   "pygments_lexer": "ipython3",
   "version": "3.6.15"
  }
 },
 "nbformat": 4,
 "nbformat_minor": 2
}
